{
 "cells": [
  {
   "cell_type": "code",
   "execution_count": 1,
   "metadata": {},
   "outputs": [],
   "source": [
    "import numpy as np\n",
    "import pandas as pd\n",
    "from scipy import stats\n",
    "import matplotlib.pyplot as plt\n",
    "import matplotlib\n",
    "%matplotlib inline\n",
    "from matplotlib.patches import Rectangle\n",
    "import matplotlib.colors as mcolors\n",
    "\n",
    "import seaborn as sns\n",
    "import os\n",
    "import sys\n",
    "from chimera import Chimera\n",
    "\n",
    "sns.set(style='ticks', context='notebook', font_scale=1.2)"
   ]
  },
  {
   "cell_type": "code",
   "execution_count": null,
   "metadata": {},
   "outputs": [],
   "source": []
  },
  {
   "cell_type": "code",
   "execution_count": 2,
   "metadata": {},
   "outputs": [],
   "source": [
    "def gradient_patch(ax, xmin, xmax, ymin, ymax, fill_color='k', alpha=1, zorder=1):\n",
    "    \n",
    "    x = np.linspace(xmin, xmax, 100)\n",
    "    y = np.linspace(ymin, ymax, 100)\n",
    "    \n",
    "    z = np.empty((100, 1, 4), dtype=float)\n",
    "    rgb = mcolors.colorConverter.to_rgb(fill_color)\n",
    "    z[:,:,:3] = rgb\n",
    "    z[:,:,-1] = np.linspace(0, alpha, 100)[:,None]\n",
    "\n",
    "    im = ax.imshow(z, aspect='auto', extent=[xmin, xmax, ymin, ymax],\n",
    "                   origin='lower', zorder=zorder)\n",
    "\n",
    "    xy = np.column_stack([x, y])\n",
    "    xy = np.vstack([[xmin, ymin], xy, [xmax, ymin], [xmin, ymin]])\n",
    "    clip_path = Rectangle(xy=(xmin, ymin), width=xmax-xmin, height=ymax-ymin, \n",
    "                          facecolor='none', edgecolor='none')\n",
    "    ax.add_patch(clip_path)\n",
    "    im.set_clip_path(clip_path)"
   ]
  },
  {
   "cell_type": "code",
   "execution_count": 30,
   "metadata": {},
   "outputs": [
    {
     "data": {
      "text/html": [
       "<div>\n",
       "<style scoped>\n",
       "    .dataframe tbody tr th:only-of-type {\n",
       "        vertical-align: middle;\n",
       "    }\n",
       "\n",
       "    .dataframe tbody tr th {\n",
       "        vertical-align: top;\n",
       "    }\n",
       "\n",
       "    .dataframe thead th {\n",
       "        text-align: right;\n",
       "    }\n",
       "</style>\n",
       "<table border=\"1\" class=\"dataframe\">\n",
       "  <thead>\n",
       "    <tr style=\"text-align: right;\">\n",
       "      <th></th>\n",
       "      <th>#</th>\n",
       "      <th>HAuCl4</th>\n",
       "      <th>PVP</th>\n",
       "      <th>Glucose</th>\n",
       "      <th>NaOH</th>\n",
       "      <th>Time</th>\n",
       "      <th>A450</th>\n",
       "      <th>WL</th>\n",
       "      <th>FWHM</th>\n",
       "      <th>R</th>\n",
       "      <th>std</th>\n",
       "      <th>WL_transformed</th>\n",
       "    </tr>\n",
       "  </thead>\n",
       "  <tbody>\n",
       "    <tr>\n",
       "      <th>0</th>\n",
       "      <td>1</td>\n",
       "      <td>19.36</td>\n",
       "      <td>20.00</td>\n",
       "      <td>9.78</td>\n",
       "      <td>19.94</td>\n",
       "      <td>3.09</td>\n",
       "      <td>0.17</td>\n",
       "      <td>520.5</td>\n",
       "      <td>118.0</td>\n",
       "      <td>6.42</td>\n",
       "      <td>0.00168 0.5     0.      0.17</td>\n",
       "      <td>19.5</td>\n",
       "    </tr>\n",
       "    <tr>\n",
       "      <th>1</th>\n",
       "      <td>2</td>\n",
       "      <td>9.86</td>\n",
       "      <td>7.80</td>\n",
       "      <td>5.33</td>\n",
       "      <td>11.35</td>\n",
       "      <td>8.56</td>\n",
       "      <td>0.07</td>\n",
       "      <td>525.0</td>\n",
       "      <td>117.0</td>\n",
       "      <td>5.64</td>\n",
       "      <td>0.003845 0.       1.       0.015</td>\n",
       "      <td>15.0</td>\n",
       "    </tr>\n",
       "    <tr>\n",
       "      <th>2</th>\n",
       "      <td>3</td>\n",
       "      <td>9.63</td>\n",
       "      <td>13.45</td>\n",
       "      <td>4.30</td>\n",
       "      <td>8.72</td>\n",
       "      <td>9.91</td>\n",
       "      <td>0.02</td>\n",
       "      <td>522.0</td>\n",
       "      <td>119.0</td>\n",
       "      <td>4.74</td>\n",
       "      <td>9.10e-04 1.00e+00 3.00e+00 7.55e-01</td>\n",
       "      <td>18.0</td>\n",
       "    </tr>\n",
       "    <tr>\n",
       "      <th>3</th>\n",
       "      <td>4</td>\n",
       "      <td>12.24</td>\n",
       "      <td>19.52</td>\n",
       "      <td>19.21</td>\n",
       "      <td>19.79</td>\n",
       "      <td>5.68</td>\n",
       "      <td>0.11</td>\n",
       "      <td>526.5</td>\n",
       "      <td>120.0</td>\n",
       "      <td>5.36</td>\n",
       "      <td>1.26e-03 5.00e-01 2.00e+00 4.65e-01</td>\n",
       "      <td>13.5</td>\n",
       "    </tr>\n",
       "    <tr>\n",
       "      <th>4</th>\n",
       "      <td>5</td>\n",
       "      <td>11.48</td>\n",
       "      <td>18.98</td>\n",
       "      <td>19.88</td>\n",
       "      <td>19.14</td>\n",
       "      <td>6.06</td>\n",
       "      <td>0.10</td>\n",
       "      <td>529.0</td>\n",
       "      <td>129.0</td>\n",
       "      <td>4.40</td>\n",
       "      <td>0.00464 1.      1.      0.195</td>\n",
       "      <td>11.0</td>\n",
       "    </tr>\n",
       "    <tr>\n",
       "      <th>...</th>\n",
       "      <td>...</td>\n",
       "      <td>...</td>\n",
       "      <td>...</td>\n",
       "      <td>...</td>\n",
       "      <td>...</td>\n",
       "      <td>...</td>\n",
       "      <td>...</td>\n",
       "      <td>...</td>\n",
       "      <td>...</td>\n",
       "      <td>...</td>\n",
       "      <td>...</td>\n",
       "      <td>...</td>\n",
       "    </tr>\n",
       "    <tr>\n",
       "      <th>95</th>\n",
       "      <td>96</td>\n",
       "      <td>13.53</td>\n",
       "      <td>12.74</td>\n",
       "      <td>15.37</td>\n",
       "      <td>7.59</td>\n",
       "      <td>7.36</td>\n",
       "      <td>0.04</td>\n",
       "      <td>540.5</td>\n",
       "      <td>149.0</td>\n",
       "      <td>2.52</td>\n",
       "      <td>2.005e-03 5.000e-01 3.000e+00 4.500e-02</td>\n",
       "      <td>0.5</td>\n",
       "    </tr>\n",
       "    <tr>\n",
       "      <th>96</th>\n",
       "      <td>97</td>\n",
       "      <td>16.01</td>\n",
       "      <td>10.73</td>\n",
       "      <td>16.57</td>\n",
       "      <td>19.90</td>\n",
       "      <td>4.84</td>\n",
       "      <td>0.11</td>\n",
       "      <td>544.5</td>\n",
       "      <td>142.0</td>\n",
       "      <td>2.37</td>\n",
       "      <td>3.05e-04 5.00e-01 2.00e+00 5.00e-02</td>\n",
       "      <td>4.5</td>\n",
       "    </tr>\n",
       "    <tr>\n",
       "      <th>97</th>\n",
       "      <td>98</td>\n",
       "      <td>12.48</td>\n",
       "      <td>9.39</td>\n",
       "      <td>15.91</td>\n",
       "      <td>14.57</td>\n",
       "      <td>2.83</td>\n",
       "      <td>0.08</td>\n",
       "      <td>548.0</td>\n",
       "      <td>152.0</td>\n",
       "      <td>2.02</td>\n",
       "      <td>0.00307 0.      2.      0.035</td>\n",
       "      <td>8.0</td>\n",
       "    </tr>\n",
       "    <tr>\n",
       "      <th>98</th>\n",
       "      <td>99</td>\n",
       "      <td>14.95</td>\n",
       "      <td>10.28</td>\n",
       "      <td>17.62</td>\n",
       "      <td>20.00</td>\n",
       "      <td>4.57</td>\n",
       "      <td>0.11</td>\n",
       "      <td>548.0</td>\n",
       "      <td>142.0</td>\n",
       "      <td>2.20</td>\n",
       "      <td>9.9e-04 1.0e+00 2.0e+00 2.0e-02</td>\n",
       "      <td>8.0</td>\n",
       "    </tr>\n",
       "    <tr>\n",
       "      <th>99</th>\n",
       "      <td>100</td>\n",
       "      <td>13.88</td>\n",
       "      <td>7.47</td>\n",
       "      <td>8.67</td>\n",
       "      <td>10.85</td>\n",
       "      <td>8.29</td>\n",
       "      <td>0.06</td>\n",
       "      <td>550.5</td>\n",
       "      <td>149.0</td>\n",
       "      <td>2.01</td>\n",
       "      <td>3.875e-03 2.500e+00 9.000e+00 1.150e-01</td>\n",
       "      <td>10.5</td>\n",
       "    </tr>\n",
       "  </tbody>\n",
       "</table>\n",
       "<p>100 rows × 12 columns</p>\n",
       "</div>"
      ],
      "text/plain": [
       "      #  HAuCl4    PVP  Glucose   NaOH  Time  A450     WL   FWHM     R  \\\n",
       "0     1   19.36  20.00     9.78  19.94  3.09  0.17  520.5  118.0  6.42   \n",
       "1     2    9.86   7.80     5.33  11.35  8.56  0.07  525.0  117.0  5.64   \n",
       "2     3    9.63  13.45     4.30   8.72  9.91  0.02  522.0  119.0  4.74   \n",
       "3     4   12.24  19.52    19.21  19.79  5.68  0.11  526.5  120.0  5.36   \n",
       "4     5   11.48  18.98    19.88  19.14  6.06  0.10  529.0  129.0  4.40   \n",
       "..  ...     ...    ...      ...    ...   ...   ...    ...    ...   ...   \n",
       "95   96   13.53  12.74    15.37   7.59  7.36  0.04  540.5  149.0  2.52   \n",
       "96   97   16.01  10.73    16.57  19.90  4.84  0.11  544.5  142.0  2.37   \n",
       "97   98   12.48   9.39    15.91  14.57  2.83  0.08  548.0  152.0  2.02   \n",
       "98   99   14.95  10.28    17.62  20.00  4.57  0.11  548.0  142.0  2.20   \n",
       "99  100   13.88   7.47     8.67  10.85  8.29  0.06  550.5  149.0  2.01   \n",
       "\n",
       "                                        std  WL_transformed  \n",
       "0           0.00168 0.5     0.      0.17               19.5  \n",
       "1       0.003845 0.       1.       0.015               15.0  \n",
       "2       9.10e-04 1.00e+00 3.00e+00 7.55e-01            18.0  \n",
       "3       1.26e-03 5.00e-01 2.00e+00 4.65e-01            13.5  \n",
       "4           0.00464 1.      1.      0.195              11.0  \n",
       "..                                      ...             ...  \n",
       "95  2.005e-03 5.000e-01 3.000e+00 4.500e-02             0.5  \n",
       "96      3.05e-04 5.00e-01 2.00e+00 5.00e-02             4.5  \n",
       "97          0.00307 0.      2.      0.035               8.0  \n",
       "98          9.9e-04 1.0e+00 2.0e+00 2.0e-02             8.0  \n",
       "99  3.875e-03 2.500e+00 9.000e+00 1.150e-01            10.5  \n",
       "\n",
       "[100 rows x 12 columns]"
      ]
     },
     "execution_count": 30,
     "metadata": {},
     "output_type": "execute_result"
    }
   ],
   "source": [
    "# load experimental data\n",
    "data = pd.read_csv('big1.csv')\n",
    "data.loc[:, 'WL_transformed'] = np.abs(data.loc[:, 'WL'] - 540)  # target is 540 +/- 2\n",
    "data"
   ]
  },
  {
   "cell_type": "code",
   "execution_count": null,
   "metadata": {},
   "outputs": [],
   "source": []
  },
  {
   "cell_type": "code",
   "execution_count": null,
   "metadata": {},
   "outputs": [],
   "source": []
  },
  {
   "cell_type": "code",
   "execution_count": null,
   "metadata": {},
   "outputs": [],
   "source": []
  },
  {
   "cell_type": "code",
   "execution_count": null,
   "metadata": {},
   "outputs": [],
   "source": []
  },
  {
   "cell_type": "code",
   "execution_count": null,
   "metadata": {},
   "outputs": [],
   "source": []
  },
  {
   "cell_type": "code",
   "execution_count": null,
   "metadata": {},
   "outputs": [],
   "source": []
  },
  {
   "cell_type": "code",
   "execution_count": null,
   "metadata": {},
   "outputs": [],
   "source": []
  },
  {
   "cell_type": "code",
   "execution_count": null,
   "metadata": {},
   "outputs": [],
   "source": []
  },
  {
   "cell_type": "code",
   "execution_count": 35,
   "metadata": {},
   "outputs": [
    {
     "data": {
      "text/plain": [
       "#                                              40\n",
       "HAuCl4                                      19.63\n",
       "PVP                                          7.33\n",
       "Glucose                                     14.38\n",
       "NaOH                                        12.12\n",
       "Time                                         4.95\n",
       "A450                                         0.13\n",
       "WL                                          541.0\n",
       "FWHM                                        138.0\n",
       "R                                            2.61\n",
       "std               0.00711 2.      2.      0.23   \n",
       "WL_transformed                                1.0\n",
       "Name: 39, dtype: object"
      ]
     },
     "execution_count": 35,
     "metadata": {},
     "output_type": "execute_result"
    }
   ],
   "source": [
    "chimera = Chimera(tolerances=[2, 0.4, 0.0], absolutes=[True, False, False], goals=['min', 'min', 'max'], softness=10e-3)\n",
    "scalarized = chimera.scalarize(data.loc[:, ['WL_transformed', 'FWHM', 'A450']])\n",
    "data.iloc[np.argmin(scalarized), :]"
   ]
  },
  {
   "cell_type": "code",
   "execution_count": 36,
   "metadata": {},
   "outputs": [
    {
     "data": {
      "text/plain": [
       "#                                              40\n",
       "HAuCl4                                      19.63\n",
       "PVP                                          7.33\n",
       "Glucose                                     14.38\n",
       "NaOH                                        12.12\n",
       "Time                                         4.95\n",
       "A450                                         0.13\n",
       "WL                                          541.0\n",
       "FWHM                                        138.0\n",
       "R                                            2.61\n",
       "std               0.00711 2.      2.      0.23   \n",
       "WL_transformed                                1.0\n",
       "Name: 39, dtype: object"
      ]
     },
     "execution_count": 36,
     "metadata": {},
     "output_type": "execute_result"
    }
   ],
   "source": [
    "chimera = Chimera(tolerances=[2, 0.4, 0.0], absolutes=[True, False, False], goals=['min', 'min', 'max'], softness=10e-10)\n",
    "scalarized = chimera.scalarize(data.loc[:, ['WL_transformed', 'FWHM', 'A450']])\n",
    "data.iloc[np.argmin(scalarized), :]"
   ]
  },
  {
   "cell_type": "code",
   "execution_count": 79,
   "metadata": {},
   "outputs": [
    {
     "data": {
      "text/plain": [
       "<AxesSubplot:ylabel='Count'>"
      ]
     },
     "execution_count": 79,
     "metadata": {},
     "output_type": "execute_result"
    },
    {
     "data": {
      "image/png": "[encoded data removed]",
      "text/plain": [
       "<Figure size 432x288 with 1 Axes>"
      ]
     },
     "metadata": {},
     "output_type": "display_data"
    }
   ],
   "source": [
    "sns.histplot(data.loc[:, ['FWHM']])"
   ]
  },
  {
   "cell_type": "code",
   "execution_count": 80,
   "metadata": {},
   "outputs": [
    {
     "data": {
      "text/plain": [
       "<AxesSubplot:ylabel='Count'>"
      ]
     },
     "execution_count": 80,
     "metadata": {},
     "output_type": "execute_result"
    },
    {
     "data": {
      "image/png": "[encoded data removed]",
      "text/plain": [
       "<Figure size 432x288 with 1 Axes>"
      ]
     },
     "metadata": {},
     "output_type": "display_data"
    }
   ],
   "source": [
    "sns.histplot(data.loc[:, ['A450']])"
   ]
  },
  {
   "cell_type": "code",
   "execution_count": 61,
   "metadata": {},
   "outputs": [
    {
     "data": {
      "text/plain": [
       "7     470.0\n",
       "37    470.0\n",
       "54    470.0\n",
       "55    374.0\n",
       "Name: FWHM, dtype: float64"
      ]
     },
     "execution_count": 61,
     "metadata": {},
     "output_type": "execute_result"
    }
   ],
   "source": [
    "mask = data.loc[:, 'FWHM'] > 300\n",
    "data.loc[mask, 'FWHM']"
   ]
  },
  {
   "cell_type": "code",
   "execution_count": 77,
   "metadata": {},
   "outputs": [
    {
     "data": {
      "text/plain": [
       "0    118.0\n",
       "1    117.0\n",
       "2    119.0\n",
       "Name: FWHM, dtype: float64"
      ]
     },
     "execution_count": 77,
     "metadata": {},
     "output_type": "execute_result"
    }
   ],
   "source": [
    "mask = data.loc[:, 'FWHM'] <120\n",
    "data.loc[mask, 'FWHM']"
   ]
  },
  {
   "cell_type": "markdown",
   "metadata": {},
   "source": [
    "## Process data to get relevant info"
   ]
  },
  {
   "cell_type": "code",
   "execution_count": 37,
   "metadata": {},
   "outputs": [],
   "source": [
    "# define multi-objective preferences\n",
    "chimera = Chimera(tolerances=[2, 0.4, 0.0], absolutes=[True, False, False], goals=['min', 'min', 'max'], softness=10e-10)\n",
    "\n",
    "# Get index of best solution at each experimental iteration\n",
    "best_indices = []\n",
    "for i in data.index:\n",
    "    # consider objectives for experiments up to i\n",
    "    objectives = data.loc[:i, ['WL_transformed', 'FWHM', 'A450']]\n",
    "    # scalarize objectives\n",
    "    scalarized = chimera.scalarize(objectives)\n",
    "    # save index of best up to i\n",
    "    best_idx = np.argmin(scalarized)\n",
    "    best_indices.append(best_idx)\n",
    "    \n",
    "# get history of objectives for best solution\n",
    "obj_1 = [data.loc[:, 'WL_transformed'].to_numpy()[i] for i in best_indices]\n",
    "obj_2 = [data.loc[:, 'FWHM'].to_numpy()[i] for i in best_indices]\n",
    "obj_3 = [data.loc[:, 'A450'].to_numpy()[i] for i in best_indices]"
   ]
  },
  {
   "cell_type": "code",
   "execution_count": null,
   "metadata": {},
   "outputs": [],
   "source": []
  },
  {
   "cell_type": "code",
   "execution_count": 74,
   "metadata": {},
   "outputs": [],
   "source": [
    "# get dynamic/relative 0.4 threshoold for FWHM\n",
    "min_fwhm_list = []\n",
    "max_fwhm_list = []\n",
    "thr_fwhm_list = []\n",
    "\n",
    "for i in data.index:\n",
    "    min_fwhm = data.loc[:i, 'FWHM'].min()\n",
    "    #max_fwhm = data.loc[:i, 'FWHM'].max()\n",
    "    \n",
    "    mask = data.loc[:, 'FWHM'] < 469 # filter out dummy results\n",
    "    mask[i+1:] = False\n",
    "    max_fwhm = data.loc[mask, 'FWHM'].max()\n",
    "\n",
    "    thr_fwhm = min_fwhm + (max_fwhm - min_fwhm) * 0.4\n",
    "    min_fwhm_list.append(min_fwhm)\n",
    "    max_fwhm_list.append(max_fwhm)\n",
    "    thr_fwhm_list.append(thr_fwhm)\n",
    "    \n",
    "\n",
    "# get final/last 0.4 threshoold for FWHM\n",
    "min_fwhm = data.loc[:, 'FWHM'].min()\n",
    "#max_fwhm = data.loc[:, 'FWHM'].max()\n",
    "mask = data.loc[:, 'FWHM'] < 469  # filter out dummy results\n",
    "max_fwhm = data.loc[mask, 'FWHM'].max()\n",
    "\n",
    "thres_fwhm = data.loc[:, 'FWHM'].min() + (max_fwhm - min_fwhm) * 0.4"
   ]
  },
  {
   "cell_type": "code",
   "execution_count": null,
   "metadata": {},
   "outputs": [],
   "source": []
  },
  {
   "cell_type": "markdown",
   "metadata": {},
   "source": [
    "## Three 1D plots"
   ]
  },
  {
   "cell_type": "code",
   "execution_count": 76,
   "metadata": {},
   "outputs": [
    {
     "data": {
      "image/png": "[encoded data removed]",
      "text/plain": [
       "<Figure size 864x288 with 3 Axes>"
      ]
     },
     "metadata": {},
     "output_type": "display_data"
    }
   ],
   "source": [
    "fig, (ax1, ax2, ax3) = plt.subplots(ncols=3, nrows=1, figsize=(12,4))\n",
    "\n",
    "experiment_nums = range(1, len(data)+1, 1)  # for x-axis\n",
    "\n",
    "# colors\n",
    "c1 = '#e07a5f'\n",
    "c2 = '#81b29a'\n",
    "c3 = '#f2cc8f'\n",
    "\n",
    "# -----------\n",
    "# plot traces\n",
    "# -----------\n",
    "ax1.plot(experiment_nums, obj_1, color='#444444', linewidth=6)\n",
    "ax1.plot(experiment_nums, obj_1, color=c1, linewidth=4)\n",
    "\n",
    "ax2.plot(experiment_nums, obj_2, color='#444444', linewidth=6)\n",
    "ax2.plot(experiment_nums, obj_2, color=c2, linewidth=4)\n",
    "\n",
    "ax3.plot(experiment_nums, obj_3, color='#444444', linewidth=6)\n",
    "ax3.plot(experiment_nums, obj_3, color=c3, linewidth=4)\n",
    "\n",
    "# -------------------------------------\n",
    "# plot target region for the objectives \n",
    "# -------------------------------------\n",
    "ax1.fill_between(x=range(0, len(data)+2, 1), y1=0.0, y2=2.0, color=c1, alpha=0.3)\n",
    "#ax2.fill_between(x=range(0, len(data)+2, 1), y1=0.0, y2=thr_fwhm, color=c2, alpha=0.3)  # simpler\n",
    "ax2.fill_between(x=experiment_nums, y1=min_fwhm_list, y2=thr_fwhm_list, color=c2, alpha=0.3)  # perhaps more accurate\n",
    "\n",
    "gradient_patch(ax=ax3, xmin=0, xmax=102, ymin=0.0, ymax=0.2, fill_color=c3, alpha=0.3)\n",
    "\n",
    "# titles and labels\n",
    "for ax in [ax1, ax2, ax3]:\n",
    "    ax.set_xlabel('# experiments')\n",
    "    \n",
    "ax1.set_title('First objective')\n",
    "ax2.set_title('Second objective')\n",
    "ax3.set_title('Third objective')\n",
    "\n",
    "ax1.set_ylabel('$|\\lambda - \\lambda_{450}|$ [nm]')\n",
    "ax2.set_ylabel('FWHM [nm]')\n",
    "ax3.set_ylabel('A450 [a.u.]')\n",
    "\n",
    "ax1.set_xlim([0, 101])\n",
    "ax2.set_xlim([0, 101])\n",
    "ax3.set_xlim([0, 101])\n",
    "\n",
    "ax1.set_ylim([0, 20])\n",
    "ax2.set_ylim([115, 250])\n",
    "\n",
    "ax1.axhline(y=chimera.tolerances[0], linestyle='--', color='k', linewidth=2, zorder=1)\n",
    "ax2.axhline(y=thres_fwhm, linestyle='--', color='k', linewidth=2, zorder=1)\n",
    "    \n",
    "plt.tight_layout()\n",
    "#fig.savefig(\"objectives_plot.pdf\", bbox_inches='tight')"
   ]
  },
  {
   "cell_type": "code",
   "execution_count": null,
   "metadata": {},
   "outputs": [],
   "source": []
  },
  {
   "cell_type": "code",
   "execution_count": null,
   "metadata": {},
   "outputs": [],
   "source": []
  },
  {
   "cell_type": "markdown",
   "metadata": {},
   "source": [
    "## 3D plot"
   ]
  },
  {
   "cell_type": "code",
   "execution_count": 151,
   "metadata": {},
   "outputs": [],
   "source": [
    "from mpl_toolkits.mplot3d import Axes3D\n",
    "import numpy as np\n",
    "import matplotlib.pyplot as plt\n",
    "\n",
    "def cuboid_data(pos, size=(1,1,1)):\n",
    "    # code taken from\n",
    "    # https://stackoverflow.com/a/35978146/4124317\n",
    "    # suppose axis direction: x: to left; y: to inside; z: to upper\n",
    "    # get the (left, outside, bottom) point\n",
    "    o = [a - b / 2 for a, b in zip(pos, size)]\n",
    "    # get the length, width, and height\n",
    "    l, w, h = size\n",
    "    x = [[o[0], o[0] + l, o[0] + l, o[0], o[0]],  \n",
    "         [o[0], o[0] + l, o[0] + l, o[0], o[0]],  \n",
    "         [o[0], o[0] + l, o[0] + l, o[0], o[0]],  \n",
    "         [o[0], o[0] + l, o[0] + l, o[0], o[0]]]  \n",
    "    y = [[o[1], o[1], o[1] + w, o[1] + w, o[1]],  \n",
    "         [o[1], o[1], o[1] + w, o[1] + w, o[1]],  \n",
    "         [o[1], o[1], o[1], o[1], o[1]],          \n",
    "         [o[1] + w, o[1] + w, o[1] + w, o[1] + w, o[1] + w]]   \n",
    "    z = [[o[2], o[2], o[2], o[2], o[2]],                       \n",
    "         [o[2] + h, o[2] + h, o[2] + h, o[2] + h, o[2] + h],   \n",
    "         [o[2], o[2], o[2] + h, o[2] + h, o[2]],               \n",
    "         [o[2], o[2], o[2] + h, o[2] + h, o[2]]]               \n",
    "    return np.array(x), np.array(y), np.array(z)\n",
    "\n",
    "def plotCubeAt(ax=None, pos=(0,0,0), size=(1,1,1)):\n",
    "    # Plotting a cube element at position pos\n",
    "    if ax !=None:\n",
    "        "
   ]
  },
  {
   "cell_type": "code",
   "execution_count": 177,
   "metadata": {},
   "outputs": [],
   "source": [
    "import numpy as np\n",
    "import matplotlib.pyplot as plt\n",
    "import matplotlib.collections as mcoll\n",
    "\n",
    "def multicolored_lines():\n",
    "    \"\"\"\n",
    "    http://nbviewer.ipython.org/github/dpsanders/matplotlib-examples/blob/master/colorline.ipynb\n",
    "    http://matplotlib.org/examples/pylab_examples/multicolored_line.html\n",
    "    \"\"\"\n",
    "\n",
    "    x = np.linspace(0, 4. * np.pi, 100)\n",
    "    y = np.sin(x)\n",
    "    fig, ax = plt.subplots()\n",
    "    lc = colorline(x, y, cmap='hsv')\n",
    "    plt.colorbar(lc)\n",
    "    plt.xlim(x.min(), x.max())\n",
    "    plt.ylim(-1.0, 1.0)\n",
    "    plt.show()\n",
    "\n",
    "def colorline(\n",
    "        x, y, z=None, cmap='copper', norm=plt.Normalize(0.0, 1.0),\n",
    "        linewidth=3, alpha=1.0):\n",
    "    \"\"\"\n",
    "    http://nbviewer.ipython.org/github/dpsanders/matplotlib-examples/blob/master/colorline.ipynb\n",
    "    http://matplotlib.org/examples/pylab_examples/multicolored_line.html\n",
    "    Plot a colored line with coordinates x and y\n",
    "    Optionally specify colors in the array z\n",
    "    Optionally specify a colormap, a norm function and a line width\n",
    "    \"\"\"\n",
    "\n",
    "    # Default colors equally spaced on [0,1]:\n",
    "    if z is None:\n",
    "        z = np.linspace(0.0, 1.0, len(x))\n",
    "\n",
    "    # Special case if a single number:\n",
    "    # to check for numerical input -- this is a hack\n",
    "    if not hasattr(z, \"__iter__\"):\n",
    "        z = np.array([z])\n",
    "\n",
    "    z = np.asarray(z)\n",
    "\n",
    "    segments = make_segments(x, y)\n",
    "    lc = mcoll.LineCollection(segments, array=z, cmap=cmap, norm=norm,\n",
    "                              linewidth=linewidth, alpha=alpha)\n",
    "\n",
    "    ax = plt.gca()\n",
    "    ax.add_collection(lc)\n",
    "\n",
    "    return lc\n",
    "\n",
    "def make_segments(x, y):\n",
    "    \"\"\"\n",
    "    Create list of line segments from x and y coordinates, in the correct format\n",
    "    for LineCollection: an array of the form numlines x (points per line) x 2 (x\n",
    "    and y) array\n",
    "    \"\"\"\n",
    "\n",
    "    points = np.array([x, y]).T.reshape(-1, 1, 2)\n",
    "    segments = np.concatenate([points[:-1], points[1:]], axis=1)\n",
    "    return segments"
   ]
  },
  {
   "cell_type": "code",
   "execution_count": 240,
   "metadata": {},
   "outputs": [
    {
     "data": {
      "text/plain": [
       "Text(0.5, 0, 'A450 [AU]')"
      ]
     },
     "execution_count": 240,
     "metadata": {},
     "output_type": "execute_result"
    },
    {
     "data": {
      "image/png": "[encoded data removed]",
      "text/plain": [
       "<Figure size 504x360 with 2 Axes>"
      ]
     },
     "metadata": {},
     "output_type": "display_data"
    }
   ],
   "source": [
    "fig = plt.figure(figsize=(7, 5))\n",
    "ax = fig.add_subplot(projection='3d')\n",
    "\n",
    "ax.plot(obj_1, obj_2, obj_3, linewidth=4, color='#444444')\n",
    "ax.plot(obj_1, obj_2, obj_3, linewidth=3, color='#f2cc8f')\n",
    "\n",
    "cmap = plt.cm.magma_r(np.linspace(0, 1, len(obj_1)))\n",
    "sc = ax.scatter(obj_1, obj_2, obj_3, s=100, c=cmap, edgecolor='#444444', linewidth=2)\n",
    "\n",
    "#fig.colorbar(sc, shrink=0.5, pad=0.15)\n",
    "# Add colorbar\n",
    "fig.subplots_adjust(right=1)\n",
    "cbar_ax = fig.add_axes([1.0, 0.3, 0.015, 0.4])  # [left, bottom, width, height]\n",
    "colorbar = fig.colorbar(sc, cax=cbar_ax, orientation='vertical')\n",
    "_ = colorbar.set_label('# experiment', fontsize=14, labelpad=0.1)\n",
    "_ = colorbar.set_ticks([0, 0.5, 1])\n",
    "_ = colorbar.set_ticklabels(['100','50','1'])\n",
    "_ = cbar_ax.tick_params(labelsize=14) \n",
    "\n",
    "# plot rectangle that shows target area\n",
    "xlims = [0, 10]\n",
    "ylims = [min_fwhm, thr_fwhm]\n",
    "zlims = [0.04, 0.16]\n",
    "centers = (np.mean(xlims), np.mean(ylims), np.mean(zlims))\n",
    "len_edges = (np.max(xlims)-np.min(xlims), np.max(ylims)-np.min(ylims), np.max(zlims)-np.min(zlims))\n",
    "X, Y, Z = cuboid_data(pos=centers, size=len_edges)\n",
    "\n",
    "ax.plot_surface(X, Y, Z, color='g', alpha=0.3, linewidth=0)\n",
    "\n",
    "# labels\n",
    "ax.set_xlabel('WL [nm]', labelpad=10)\n",
    "ax.set_ylabel('FWHM [nm]', labelpad=10)\n",
    "ax.set_zlabel('A450 [AU]', labelpad=10)\n",
    "\n",
    "#plt.tight_layout()\n",
    "#fig.savefig(\"3d_plot.pdf\", bbox_inches='tight')"
   ]
  },
  {
   "cell_type": "code",
   "execution_count": null,
   "metadata": {},
   "outputs": [],
   "source": []
  },
  {
   "cell_type": "code",
   "execution_count": null,
   "metadata": {},
   "outputs": [],
   "source": []
  },
  {
   "cell_type": "code",
   "execution_count": null,
   "metadata": {},
   "outputs": [],
   "source": []
  },
  {
   "cell_type": "code",
   "execution_count": null,
   "metadata": {},
   "outputs": [],
   "source": []
  },
  {
   "cell_type": "code",
   "execution_count": null,
   "metadata": {},
   "outputs": [],
   "source": []
  },
  {
   "cell_type": "code",
   "execution_count": null,
   "metadata": {},
   "outputs": [],
   "source": []
  },
  {
   "cell_type": "code",
   "execution_count": null,
   "metadata": {},
   "outputs": [],
   "source": []
  },
  {
   "cell_type": "code",
   "execution_count": null,
   "metadata": {},
   "outputs": [],
   "source": []
  }
 ],
 "metadata": {
  "kernelspec": {
   "display_name": "feas",
   "language": "python",
   "name": "feas"
  },
  "language_info": {
   "codemirror_mode": {
    "name": "ipython",
    "version": 3
   },
   "file_extension": ".py",
   "mimetype": "text/x-python",
   "name": "python",
   "nbconvert_exporter": "python",
   "pygments_lexer": "ipython3",
   "version": "3.7.9"
  }
 },
 "nbformat": 4,
 "nbformat_minor": 4
}
